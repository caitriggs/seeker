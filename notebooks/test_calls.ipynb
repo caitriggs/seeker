{
 "cells": [
  {
   "cell_type": "markdown",
   "metadata": {},
   "source": [
    "# Fiddling around with making Bungie API calls to get json data "
   ]
  },
  {
   "cell_type": "code",
   "execution_count": 66,
   "metadata": {
    "collapsed": true
   },
   "outputs": [],
   "source": [
    "import pandas as pd\n",
    "import requests\n",
    "import os"
   ]
  },
  {
   "cell_type": "code",
   "execution_count": 107,
   "metadata": {
    "collapsed": false
   },
   "outputs": [],
   "source": [
    "class BungieData(object):\n",
    "\n",
    "    def __init__(self, api_key, session=None):\n",
    "        '''\n",
    "        session: an object from login.py defining a user session by \n",
    "        logging into Bungie.net (oAuth verified)\n",
    "        '''\n",
    "        self.session = session\n",
    "        self.api_key = api_key\n",
    "\n",
    "    def get_userdata(self, user_id):\n",
    "        '''\n",
    "        Use old Destiny endpoint\n",
    "        '''\n",
    "        site_call = \"https://bungie.net/Platform/User/GetBungieNetUserById/\" + str(user_id)\n",
    "        request = requests.get(site_call, \n",
    "                                headers={\"X-API-Key\":self.api_key})\n",
    "        return request.json()\n",
    "    \n",
    "    def get_userdata_v2(self, user_id):\n",
    "        '''\n",
    "        Use new Destiny 2 endpoint for PSN player \n",
    "        '''\n",
    "        site_call = \"https://bungie.net/Platform/Destiny2/2/Profile/\" + str(user_id)\n",
    "        request = requests.get(site_call, \n",
    "                                headers={\"X-API-Key\":self.api_key})\n",
    "        return request.json()\n",
    "    \n",
    "    def get_postGameStats(self, game_id):\n",
    "        site_call = \"https://bungie.net/Platform/Destiny2/Stats/PostGameCarnageReport/\" + str(game_id)\n",
    "        request = requests.get(site_call, \n",
    "                                headers={\"X-API-Key\":self.api_key})\n",
    "        return request.json()\n",
    "    \n",
    "    def get_playerByTagName(self, gamertag):\n",
    "        site_call = \"https://bungie.net/Platform/Destiny2/SearchDestinyPlayer/2/\" + gamertag\n",
    "        request = requests.get(site_call, \n",
    "                                headers={\"X-API-Key\":self.api_key})\n",
    "        return request.json()\n"
   ]
  },
  {
   "cell_type": "code",
   "execution_count": 105,
   "metadata": {
    "collapsed": true
   },
   "outputs": [],
   "source": [
    "bungie = BungieData(api_key=os.environ[\"BUNGIE_API_KEY\"]) # Never put your keys in code... export 'em!"
   ]
  },
  {
   "cell_type": "code",
   "execution_count": 106,
   "metadata": {
    "collapsed": false
   },
   "outputs": [
    {
     "data": {
      "text/plain": [
       "{u'ErrorCode': 1,\n",
       " u'ErrorStatus': u'Success',\n",
       " u'Message': u'Ok',\n",
       " u'MessageData': {},\n",
       " u'Response': [{u'displayName': u'BalancedSeeker6',\n",
       "   u'iconPath': u'/img/theme/destiny/icons/icon_psn.png',\n",
       "   u'membershipId': u'4611686018453385415',\n",
       "   u'membershipType': 2}],\n",
       " u'ThrottleSeconds': 0}"
      ]
     },
     "execution_count": 106,
     "metadata": {},
     "output_type": "execute_result"
    }
   ],
   "source": [
    "# Get my own Bungie MembershipID\n",
    "player_name = bungie.get_playerByTagName(\"BalancedSeeker6\")\n",
    "player_name"
   ]
  },
  {
   "cell_type": "code",
   "execution_count": 108,
   "metadata": {
    "collapsed": false
   },
   "outputs": [
    {
     "data": {
      "text/plain": [
       "{u'ErrorCode': 205,\n",
       " u'ErrorStatus': u'UserCannotFindRequestedUser',\n",
       " u'Message': u'The requested user could not be found.',\n",
       " u'MessageData': {},\n",
       " u'ThrottleSeconds': 0}"
      ]
     },
     "execution_count": 108,
     "metadata": {},
     "output_type": "execute_result"
    }
   ],
   "source": [
    "# Get my public user info by ID which isn't working for my ID for some reason yet to be determined\n",
    "content1 = bungie.get_userdata(4611686018453385415)\n",
    "content1 "
   ]
  },
  {
   "cell_type": "code",
   "execution_count": 109,
   "metadata": {
    "collapsed": false
   },
   "outputs": [
    {
     "data": {
      "text/plain": [
       "{u'ErrorCode': 18,\n",
       " u'ErrorStatus': u'InvalidParameters',\n",
       " u'Message': u'The input parameters were invalid, please enter valid input, and try again.',\n",
       " u'MessageData': {},\n",
       " u'ThrottleSeconds': 0}"
      ]
     },
     "execution_count": 109,
     "metadata": {},
     "output_type": "execute_result"
    }
   ],
   "source": [
    "# Using the new Destiny 2 endpoint is throwing an error for now too\n",
    "content2 = bungie.get_userdata_v2(4611686018453385415)\n",
    "content2"
   ]
  },
  {
   "cell_type": "code",
   "execution_count": 110,
   "metadata": {
    "collapsed": false
   },
   "outputs": [
    {
     "data": {
      "text/plain": [
       "{u'ErrorCode': 1,\n",
       " u'ErrorStatus': u'Success',\n",
       " u'Message': u'Ok',\n",
       " u'MessageData': {},\n",
       " u'Response': {u'activityDetails': {u'directorActivityHash': 1658347443,\n",
       "   u'instanceId': u'100',\n",
       "   u'isPrivate': False,\n",
       "   u'mode': 2,\n",
       "   u'modes': [7, 2],\n",
       "   u'referenceId': 1658347443},\n",
       "  u'entries': [{u'characterId': u'2305843009260533952',\n",
       "    u'extended': {u'values': {u'precisionKills': {u'basic': {u'displayValue': u'55',\n",
       "        u'value': 55.0}}},\n",
       "     u'weapons': [{u'referenceId': 53159280,\n",
       "       u'values': {u'uniqueWeaponKills': {u'basic': {u'displayValue': u'4',\n",
       "          u'value': 4.0}},\n",
       "        u'uniqueWeaponKillsPrecisionKills': {u'basic': {u'displayValue': u'75%',\n",
       "          u'value': 0.75}},\n",
       "        u'uniqueWeaponPrecisionKills': {u'basic': {u'displayValue': u'3',\n",
       "          u'value': 3.0}}}},\n",
       "      {u'referenceId': 4024037919,\n",
       "       u'values': {u'uniqueWeaponKills': {u'basic': {u'displayValue': u'75',\n",
       "          u'value': 75.0}},\n",
       "        u'uniqueWeaponKillsPrecisionKills': {u'basic': {u'displayValue': u'65%',\n",
       "          u'value': 0.6533333333333333}},\n",
       "        u'uniqueWeaponPrecisionKills': {u'basic': {u'displayValue': u'49',\n",
       "          u'value': 49.0}}}},\n",
       "      {u'referenceId': 1699493316,\n",
       "       u'values': {u'uniqueWeaponKills': {u'basic': {u'displayValue': u'9',\n",
       "          u'value': 9.0}},\n",
       "        u'uniqueWeaponKillsPrecisionKills': {u'basic': {u'displayValue': u'33%',\n",
       "          u'value': 0.3333333333333333}},\n",
       "        u'uniqueWeaponPrecisionKills': {u'basic': {u'displayValue': u'3',\n",
       "          u'value': 3.0}}}}]},\n",
       "    u'player': {u'characterClass': u'Warlock',\n",
       "     u'characterLevel': 1,\n",
       "     u'destinyUserInfo': {u'displayName': u'Mr_Angry',\n",
       "      u'iconPath': u'/common/destiny2_content/icons/911791e90f955fc637398ea88aba74b7.jpg',\n",
       "      u'membershipId': u'4611686018468797828',\n",
       "      u'membershipType': 2},\n",
       "     u'lightLevel': 100},\n",
       "    u'score': {u'basic': {u'displayValue': u'0', u'value': 0.0}},\n",
       "    u'standing': 0,\n",
       "    u'values': {u'activityDurationSeconds': {u'basic': {u'displayValue': u'18m 54s',\n",
       "       u'value': 1134.0}},\n",
       "     u'assists': {u'basic': {u'displayValue': u'2', u'value': 2.0}},\n",
       "     u'completed': {u'basic': {u'displayValue': u'Yes', u'value': 1.0}},\n",
       "     u'completionReason': {u'basic': {u'displayValue': u'0', u'value': 0.0}},\n",
       "     u'deaths': {u'basic': {u'displayValue': u'2', u'value': 2.0}},\n",
       "     u'fireteamId': {u'basic': {u'displayValue': u'-2147483648',\n",
       "       u'value': 1.4945334106797217e+18}},\n",
       "     u'kills': {u'basic': {u'displayValue': u'109', u'value': 109.0}},\n",
       "     u'killsDeathsAssists': {u'basic': {u'displayValue': u'55.00',\n",
       "       u'value': 55.0}},\n",
       "     u'killsDeathsRatio': {u'basic': {u'displayValue': u'54.50',\n",
       "       u'value': 54.5}},\n",
       "     u'playerCount': {u'basic': {u'displayValue': u'1', u'value': 1.0}},\n",
       "     u'score': {u'basic': {u'displayValue': u'0', u'value': 0.0}},\n",
       "     u'startSeconds': {u'basic': {u'displayValue': u'0m 0s', u'value': 0.0}},\n",
       "     u'teamScore': {u'basic': {u'displayValue': u'0', u'value': 0.0}},\n",
       "     u'timePlayedSeconds': {u'basic': {u'displayValue': u'18m 54s',\n",
       "       u'value': 1134.0}}}}],\n",
       "  u'period': u'2017-09-01T17:50:42Z',\n",
       "  u'teams': []},\n",
       " u'ThrottleSeconds': 0}"
      ]
     },
     "execution_count": 110,
     "metadata": {},
     "output_type": "execute_result"
    }
   ],
   "source": [
    "# Get a single game's stats\n",
    "game_stats = bungie.get_postGameStats(100)\n",
    "game_stats"
   ]
  },
  {
   "cell_type": "code",
   "execution_count": null,
   "metadata": {
    "collapsed": true
   },
   "outputs": [],
   "source": []
  }
 ],
 "metadata": {
  "kernelspec": {
   "display_name": "Python 2",
   "language": "python",
   "name": "python2"
  },
  "language_info": {
   "codemirror_mode": {
    "name": "ipython",
    "version": 2
   },
   "file_extension": ".py",
   "mimetype": "text/x-python",
   "name": "python",
   "nbconvert_exporter": "python",
   "pygments_lexer": "ipython2",
   "version": "2.7.13"
  }
 },
 "nbformat": 4,
 "nbformat_minor": 2
}
