{
 "cells": [
  {
   "cell_type": "markdown",
   "metadata": {},
   "source": [
    "# Fiddling around with making Bungie API calls to get json data "
   ]
  },
  {
   "cell_type": "code",
   "execution_count": 66,
   "metadata": {
    "collapsed": true
   },
   "outputs": [],
   "source": [
    "import pandas as pd\n",
    "import requests\n",
    "import os"
   ]
  },
  {
   "cell_type": "code",
   "execution_count": 181,
   "metadata": {
    "collapsed": false
   },
   "outputs": [],
   "source": [
    "class BungieData(object):\n",
    "\n",
    "    def __init__(self, api_key, session=None):\n",
    "        '''\n",
    "        session: an object from login.py defining a user session by \n",
    "        logging into Bungie.net (oAuth verified)\n",
    "        '''\n",
    "        self.session = session\n",
    "        self.api_key = api_key\n",
    "        \n",
    "    def get_playerByTagName(self, gamertag):\n",
    "        site_call = \"https://bungie.net/Platform/Destiny2/SearchDestinyPlayer/2/\" + gamertag\n",
    "        request = requests.get(site_call, \n",
    "                                headers={\"X-API-Key\":self.api_key})\n",
    "        return request.json()\n",
    "\n",
    "    def get_BungieUserId(self, membership_id):\n",
    "        '''\n",
    "        Use old Destiny endpoint for PSN user to get the BUNGIE membershipId for a user\n",
    "        '''\n",
    "        site_call = \"https://bungie.net/Platform/User/GetMembershipsById/\" + str(membership_id) + \"/2/\" \n",
    "        request = requests.get(site_call, \n",
    "                                headers={\"X-API-Key\":self.api_key})\n",
    "        return int(request.json()['Response']['bungieNetUser']['membershipId'])\n",
    "    \n",
    "    def get_DestinyUserProfile(self, membership_id, components=[100]):\n",
    "        '''\n",
    "        Use new Destiny 2 endpoint for PSN player using the Destiny membershipId \n",
    "        '''\n",
    "        components = \"?components=\" + ','.join([str(c) for c in components])\n",
    "        site_call = \"https://bungie.net/Platform/Destiny2/2/Profile/\" + str(membership_id) + \"/\" + components\n",
    "        request = requests.get(site_call, \n",
    "                                headers={\"X-API-Key\":self.api_key})\n",
    "        return request.json()\n",
    "    \n",
    "    def get_postGameStats(self, game_id):\n",
    "        site_call = \"https://bungie.net/Platform/Destiny2/Stats/PostGameCarnageReport/\" + str(game_id)\n",
    "        request = requests.get(site_call, \n",
    "                                headers={\"X-API-Key\":self.api_key})\n",
    "        return request.json()\n",
    "    \n",
    "\n"
   ]
  },
  {
   "cell_type": "code",
   "execution_count": 182,
   "metadata": {
    "collapsed": true
   },
   "outputs": [],
   "source": [
    "bungie = BungieData(api_key=os.environ[\"BUNGIE_API_KEY\"]) # Never put your keys in code... export 'em!"
   ]
  },
  {
   "cell_type": "code",
   "execution_count": 168,
   "metadata": {
    "collapsed": false
   },
   "outputs": [
    {
     "data": {
      "text/plain": [
       "{u'ErrorCode': 1,\n",
       " u'ErrorStatus': u'Success',\n",
       " u'Message': u'Ok',\n",
       " u'MessageData': {},\n",
       " u'Response': [{u'displayName': u'BalancedSeeker6',\n",
       "   u'iconPath': u'/img/theme/destiny/icons/icon_psn.png',\n",
       "   u'membershipId': u'4611686018453385415',\n",
       "   u'membershipType': 2}],\n",
       " u'ThrottleSeconds': 0}"
      ]
     },
     "execution_count": 168,
     "metadata": {},
     "output_type": "execute_result"
    }
   ],
   "source": [
    "# Get my own Bungie MembershipID\n",
    "Me = bungie.get_playerByTagName(\"BalancedSeeker6\")\n",
    "Me"
   ]
  },
  {
   "cell_type": "code",
   "execution_count": 169,
   "metadata": {
    "collapsed": false
   },
   "outputs": [
    {
     "data": {
      "text/plain": [
       "11927477"
      ]
     },
     "execution_count": 169,
     "metadata": {},
     "output_type": "execute_result"
    }
   ],
   "source": [
    "# Get my BUNGIE membershipID from using my DESTINY membershipID found in the above call\n",
    "# This is the number found on the profile page of a user on Bungie.net\n",
    "my_bungie_id = bungie.get_BungieUserId(4611686018453385415)\n",
    "my_bungie_id"
   ]
  },
  {
   "cell_type": "markdown",
   "metadata": {},
   "source": [
    "### To use GetProfile, you'll need to lookup the user's Destiny membershipID by searching by gamertag. Found that in the first call above: 4611686018453385415"
   ]
  },
  {
   "cell_type": "code",
   "execution_count": 183,
   "metadata": {
    "collapsed": false
   },
   "outputs": [
    {
     "data": {
      "text/plain": [
       "{u'ErrorCode': 1,\n",
       " u'ErrorStatus': u'Success',\n",
       " u'Message': u'Ok',\n",
       " u'MessageData': {},\n",
       " u'Response': {u'characters': {u'data': {u'2305843009260518141': {u'baseCharacterLevel': 20,\n",
       "     u'characterId': u'2305843009260518141',\n",
       "     u'classHash': 3655393761,\n",
       "     u'classType': 0,\n",
       "     u'dateLastPlayed': u'2017-09-30T07:06:14Z',\n",
       "     u'emblemBackgroundPath': u'/common/destiny2_content/icons/c06afc4c698fbec7ee17e9d21496e192.jpg',\n",
       "     u'emblemHash': 4077939641,\n",
       "     u'emblemPath': u'/common/destiny2_content/icons/60530e4d21f5a32bebdca82cb178c4bf.jpg',\n",
       "     u'genderHash': 2204441813,\n",
       "     u'genderType': 1,\n",
       "     u'levelProgression': {u'currentProgress': 146000,\n",
       "      u'dailyLimit': 0,\n",
       "      u'dailyProgress': 0,\n",
       "      u'level': 20,\n",
       "      u'levelCap': 20,\n",
       "      u'nextLevelAt': 0,\n",
       "      u'progressToNextLevel': 0,\n",
       "      u'progressionHash': 1716568313,\n",
       "      u'stepIndex': 20,\n",
       "      u'weeklyLimit': 0,\n",
       "      u'weeklyProgress': 0},\n",
       "     u'light': 283,\n",
       "     u'membershipId': u'4611686018453385415',\n",
       "     u'membershipType': 2,\n",
       "     u'minutesPlayedThisSession': u'116',\n",
       "     u'minutesPlayedTotal': u'5120',\n",
       "     u'percentToNextLevel': 0.0,\n",
       "     u'raceHash': 2803282938,\n",
       "     u'raceType': 1,\n",
       "     u'stats': {u'144602215': 0,\n",
       "      u'1735777505': 0,\n",
       "      u'1885944937': 280,\n",
       "      u'1935470627': 283,\n",
       "      u'1943323491': 2,\n",
       "      u'2715839340': 20,\n",
       "      u'2996146975': 5,\n",
       "      u'3555269338': 44,\n",
       "      u'3897883278': 0,\n",
       "      u'392767087': 8,\n",
       "      u'3988418950': 10,\n",
       "      u'4188031367': 20,\n",
       "      u'4244567218': 0,\n",
       "      u'943549884': 20}},\n",
       "    u'2305843009289675361': {u'baseCharacterLevel': 13,\n",
       "     u'characterId': u'2305843009289675361',\n",
       "     u'classHash': 2271682572,\n",
       "     u'classType': 2,\n",
       "     u'dateLastPlayed': u'2017-09-30T21:13:30Z',\n",
       "     u'emblemBackgroundPath': u'/common/destiny2_content/icons/d956afe5fc889c7384c9ae3c433e80fb.jpg',\n",
       "     u'emblemHash': 4077939643,\n",
       "     u'emblemPath': u'/common/destiny2_content/icons/69b97c814425d6a5f4c82a807ed3b2b1.jpg',\n",
       "     u'genderHash': 2204441813,\n",
       "     u'genderType': 1,\n",
       "     u'levelProgression': {u'currentProgress': 95514,\n",
       "      u'dailyLimit': 0,\n",
       "      u'dailyProgress': 0,\n",
       "      u'level': 13,\n",
       "      u'levelCap': 20,\n",
       "      u'nextLevelAt': 10000,\n",
       "      u'progressToNextLevel': 9514,\n",
       "      u'progressionHash': 1716568313,\n",
       "      u'stepIndex': 13,\n",
       "      u'weeklyLimit': 0,\n",
       "      u'weeklyProgress': 95264},\n",
       "     u'light': 138,\n",
       "     u'membershipId': u'4611686018453385415',\n",
       "     u'membershipType': 2,\n",
       "     u'minutesPlayedThisSession': u'205',\n",
       "     u'minutesPlayedTotal': u'872',\n",
       "     u'percentToNextLevel': 95.14,\n",
       "     u'raceHash': 898834093,\n",
       "     u'raceType': 2,\n",
       "     u'stats': {u'144602215': 0,\n",
       "      u'1735777505': 0,\n",
       "      u'1885944937': 137,\n",
       "      u'1935470627': 138,\n",
       "      u'1943323491': 8,\n",
       "      u'2715839340': 20,\n",
       "      u'2996146975': 1,\n",
       "      u'3555269338': 45,\n",
       "      u'3897883278': 0,\n",
       "      u'392767087': 2,\n",
       "      u'3988418950': 10,\n",
       "      u'4244567218': 0,\n",
       "      u'943549884': 20}}},\n",
       "   u'privacy': 1},\n",
       "  u'itemComponents': {},\n",
       "  u'profile': {u'data': {u'characterIds': [u'2305843009260518141',\n",
       "     u'2305843009289675361'],\n",
       "    u'dateLastPlayed': u'2017-09-30T21:13:30Z',\n",
       "    u'userInfo': {u'displayName': u'BalancedSeeker6',\n",
       "     u'membershipId': u'4611686018453385415',\n",
       "     u'membershipType': 2},\n",
       "    u'versionsOwned': 1},\n",
       "   u'privacy': 1}},\n",
       " u'ThrottleSeconds': 0}"
      ]
     },
     "execution_count": 183,
     "metadata": {},
     "output_type": "execute_result"
    }
   ],
   "source": [
    "My_Profile = bungie.get_DestinyUserProfile(4611686018453385415, components=[100,200])\n",
    "My_Profile "
   ]
  },
  {
   "cell_type": "code",
   "execution_count": 171,
   "metadata": {
    "collapsed": false
   },
   "outputs": [
    {
     "data": {
      "text/plain": [
       "{u'ErrorCode': 1,\n",
       " u'ErrorStatus': u'Success',\n",
       " u'Message': u'Ok',\n",
       " u'MessageData': {},\n",
       " u'Response': {u'activityDetails': {u'directorActivityHash': 1658347443,\n",
       "   u'instanceId': u'100',\n",
       "   u'isPrivate': False,\n",
       "   u'mode': 2,\n",
       "   u'modes': [7, 2],\n",
       "   u'referenceId': 1658347443},\n",
       "  u'entries': [{u'characterId': u'2305843009260533952',\n",
       "    u'extended': {u'values': {u'precisionKills': {u'basic': {u'displayValue': u'55',\n",
       "        u'value': 55.0}}},\n",
       "     u'weapons': [{u'referenceId': 53159280,\n",
       "       u'values': {u'uniqueWeaponKills': {u'basic': {u'displayValue': u'4',\n",
       "          u'value': 4.0}},\n",
       "        u'uniqueWeaponKillsPrecisionKills': {u'basic': {u'displayValue': u'75%',\n",
       "          u'value': 0.75}},\n",
       "        u'uniqueWeaponPrecisionKills': {u'basic': {u'displayValue': u'3',\n",
       "          u'value': 3.0}}}},\n",
       "      {u'referenceId': 4024037919,\n",
       "       u'values': {u'uniqueWeaponKills': {u'basic': {u'displayValue': u'75',\n",
       "          u'value': 75.0}},\n",
       "        u'uniqueWeaponKillsPrecisionKills': {u'basic': {u'displayValue': u'65%',\n",
       "          u'value': 0.6533333333333333}},\n",
       "        u'uniqueWeaponPrecisionKills': {u'basic': {u'displayValue': u'49',\n",
       "          u'value': 49.0}}}},\n",
       "      {u'referenceId': 1699493316,\n",
       "       u'values': {u'uniqueWeaponKills': {u'basic': {u'displayValue': u'9',\n",
       "          u'value': 9.0}},\n",
       "        u'uniqueWeaponKillsPrecisionKills': {u'basic': {u'displayValue': u'33%',\n",
       "          u'value': 0.3333333333333333}},\n",
       "        u'uniqueWeaponPrecisionKills': {u'basic': {u'displayValue': u'3',\n",
       "          u'value': 3.0}}}}]},\n",
       "    u'player': {u'characterClass': u'Warlock',\n",
       "     u'characterLevel': 1,\n",
       "     u'destinyUserInfo': {u'displayName': u'Mr_Angry',\n",
       "      u'iconPath': u'/common/destiny2_content/icons/911791e90f955fc637398ea88aba74b7.jpg',\n",
       "      u'membershipId': u'4611686018468797828',\n",
       "      u'membershipType': 2},\n",
       "     u'lightLevel': 100},\n",
       "    u'score': {u'basic': {u'displayValue': u'0', u'value': 0.0}},\n",
       "    u'standing': 0,\n",
       "    u'values': {u'activityDurationSeconds': {u'basic': {u'displayValue': u'18m 54s',\n",
       "       u'value': 1134.0}},\n",
       "     u'assists': {u'basic': {u'displayValue': u'2', u'value': 2.0}},\n",
       "     u'completed': {u'basic': {u'displayValue': u'Yes', u'value': 1.0}},\n",
       "     u'completionReason': {u'basic': {u'displayValue': u'0', u'value': 0.0}},\n",
       "     u'deaths': {u'basic': {u'displayValue': u'2', u'value': 2.0}},\n",
       "     u'fireteamId': {u'basic': {u'displayValue': u'-2147483648',\n",
       "       u'value': 1.4945334106797217e+18}},\n",
       "     u'kills': {u'basic': {u'displayValue': u'109', u'value': 109.0}},\n",
       "     u'killsDeathsAssists': {u'basic': {u'displayValue': u'55.00',\n",
       "       u'value': 55.0}},\n",
       "     u'killsDeathsRatio': {u'basic': {u'displayValue': u'54.50',\n",
       "       u'value': 54.5}},\n",
       "     u'playerCount': {u'basic': {u'displayValue': u'1', u'value': 1.0}},\n",
       "     u'score': {u'basic': {u'displayValue': u'0', u'value': 0.0}},\n",
       "     u'startSeconds': {u'basic': {u'displayValue': u'0m 0s', u'value': 0.0}},\n",
       "     u'teamScore': {u'basic': {u'displayValue': u'0', u'value': 0.0}},\n",
       "     u'timePlayedSeconds': {u'basic': {u'displayValue': u'18m 54s',\n",
       "       u'value': 1134.0}}}}],\n",
       "  u'period': u'2017-09-01T17:50:42Z',\n",
       "  u'teams': []},\n",
       " u'ThrottleSeconds': 0}"
      ]
     },
     "execution_count": 171,
     "metadata": {},
     "output_type": "execute_result"
    }
   ],
   "source": [
    "# Get a random single game's stats\n",
    "game_stats = bungie.get_postGameStats(100)\n",
    "game_stats"
   ]
  },
  {
   "cell_type": "code",
   "execution_count": null,
   "metadata": {
    "collapsed": true
   },
   "outputs": [],
   "source": []
  }
 ],
 "metadata": {
  "kernelspec": {
   "display_name": "Python 2",
   "language": "python",
   "name": "python2"
  },
  "language_info": {
   "codemirror_mode": {
    "name": "ipython",
    "version": 2
   },
   "file_extension": ".py",
   "mimetype": "text/x-python",
   "name": "python",
   "nbconvert_exporter": "python",
   "pygments_lexer": "ipython2",
   "version": "2.7.13"
  }
 },
 "nbformat": 4,
 "nbformat_minor": 2
}
